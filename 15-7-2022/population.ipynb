{
 "cells": [
  {
   "cell_type": "code",
   "execution_count": 2,
   "metadata": {},
   "outputs": [
    {
     "data": {
      "text/plain": [
       "3.2"
      ]
     },
     "execution_count": 2,
     "metadata": {},
     "output_type": "execute_result"
    }
   ],
   "source": [
    "import pandas as pd\n",
    "l=pd.Series([1,3,2,4,6])\n",
    "l.mean()"
   ]
  },
  {
   "cell_type": "code",
   "execution_count": 3,
   "metadata": {},
   "outputs": [
    {
     "data": {
      "text/plain": [
       "3.0"
      ]
     },
     "execution_count": 3,
     "metadata": {},
     "output_type": "execute_result"
    }
   ],
   "source": [
    "l.median()"
   ]
  },
  {
   "cell_type": "code",
   "execution_count": 4,
   "metadata": {},
   "outputs": [
    {
     "data": {
      "text/plain": [
       "3.7"
      ]
     },
     "execution_count": 4,
     "metadata": {},
     "output_type": "execute_result"
    }
   ],
   "source": [
    "k=l.std()\n",
    "k*k\n",
    "l.var()"
   ]
  },
  {
   "cell_type": "code",
   "execution_count": 5,
   "metadata": {},
   "outputs": [
    {
     "data": {
      "text/plain": [
       "1.9235384061671346"
      ]
     },
     "execution_count": 5,
     "metadata": {},
     "output_type": "execute_result"
    }
   ],
   "source": [
    "l.std()"
   ]
  },
  {
   "cell_type": "code",
   "execution_count": 6,
   "metadata": {},
   "outputs": [],
   "source": [
    "p1=pd.Series([1,2,3,4,5])\n",
    "p2=pd.Series([10,20,30,40,50])\n",
    "p3=pd.Series([10,2,3,4,5])\n",
    "p4=pd.Series([1,2,30,4,5])\n",
    "p5=pd.Series([1,20,30,40,5])\n",
    "p6=pd.Series([1,2,3,4,50])\n",
    "p7=pd.Series([10,20,3,40,50])\n"
   ]
  },
  {
   "cell_type": "code",
   "execution_count": 7,
   "metadata": {},
   "outputs": [
    {
     "name": "stdout",
     "output_type": "stream",
     "text": [
      "0    1\n",
      "1    2\n",
      "2    3\n",
      "3    4\n",
      "4    5\n",
      "dtype: int64\n",
      "3.0\n",
      "3.0\n",
      "2.5\n",
      "1.5811388300841898\n"
     ]
    }
   ],
   "source": [
    "print(p1)\n",
    "print(p1.mean())\n",
    "print(p1.median())\n",
    "print(p1.var())\n",
    "print(p1.std())"
   ]
  },
  {
   "cell_type": "code",
   "execution_count": 8,
   "metadata": {},
   "outputs": [
    {
     "name": "stdout",
     "output_type": "stream",
     "text": [
      "0    10\n",
      "1    20\n",
      "2    30\n",
      "3    40\n",
      "4    50\n",
      "dtype: int64\n",
      "30.0\n",
      "30.0\n",
      "250.0\n",
      "15.811388300841896\n"
     ]
    }
   ],
   "source": [
    "print(p2)\n",
    "print(p2.mean())\n",
    "print(p2.median())\n",
    "print(p2.var())\n",
    "print(p2.std())"
   ]
  },
  {
   "cell_type": "code",
   "execution_count": 9,
   "metadata": {},
   "outputs": [
    {
     "name": "stdout",
     "output_type": "stream",
     "text": [
      "0    10\n",
      "1     2\n",
      "2     3\n",
      "3     4\n",
      "4     5\n",
      "dtype: int64\n",
      "4.8\n",
      "4.0\n",
      "9.700000000000001\n",
      "3.1144823004794877\n"
     ]
    }
   ],
   "source": [
    "print(p3)\n",
    "print(p3.mean())\n",
    "print(p3.median())\n",
    "print(p3.var())\n",
    "print(p3.std())"
   ]
  },
  {
   "cell_type": "code",
   "execution_count": 10,
   "metadata": {},
   "outputs": [
    {
     "name": "stdout",
     "output_type": "stream",
     "text": [
      "0     1\n",
      "1     2\n",
      "2    30\n",
      "3     4\n",
      "4     5\n",
      "dtype: int64\n",
      "8.4\n",
      "4.0\n",
      "148.3\n",
      "12.177848742696717\n"
     ]
    }
   ],
   "source": [
    "print(p4)\n",
    "print(p4.mean())\n",
    "print(p4.median())\n",
    "print(p4.var())\n",
    "print(p4.std())"
   ]
  },
  {
   "cell_type": "code",
   "execution_count": 11,
   "metadata": {},
   "outputs": [
    {
     "name": "stdout",
     "output_type": "stream",
     "text": [
      "0     1\n",
      "1    20\n",
      "2    30\n",
      "3    40\n",
      "4     5\n",
      "dtype: int64\n",
      "19.2\n",
      "20.0\n",
      "270.70000000000005\n",
      "16.452963258939103\n"
     ]
    }
   ],
   "source": [
    "print(p5)\n",
    "print(p5.mean())\n",
    "print(p5.median())\n",
    "print(p5.var())\n",
    "print(p5.std())\n"
   ]
  },
  {
   "cell_type": "code",
   "execution_count": 12,
   "metadata": {},
   "outputs": [
    {
     "name": "stdout",
     "output_type": "stream",
     "text": [
      "0     1\n",
      "1     2\n",
      "2     3\n",
      "3     4\n",
      "4    50\n",
      "dtype: int64\n",
      "12.0\n",
      "3.0\n",
      "452.5\n",
      "21.27204738618265\n"
     ]
    }
   ],
   "source": [
    "print(p6)\n",
    "print(p6.mean())\n",
    "print(p6.median())\n",
    "print(p6.var())\n",
    "print(p6.std())"
   ]
  },
  {
   "cell_type": "code",
   "execution_count": 59,
   "metadata": {},
   "outputs": [
    {
     "data": {
      "image/png": "[encoded data removed]",
      "text/plain": [
       "<Figure size 432x288 with 1 Axes>"
      ]
     },
     "metadata": {},
     "output_type": "display_data"
    }
   ],
   "source": [
    "import matplotlib.pyplot as plt\n",
    "a=[p1.mean(),p2.mean(),p3.mean(),p4.mean(),p5.mean(),p6.mean()]\n",
    "plt.pie(a,labels=[\"p1\",\"p2\",\"p3\",\"p4\",\"p5\",\"p6\"],autopct=\"%1.1f%%\")\n",
    "plt.legend(loc=\"lower left\")\n",
    "plt.title(\"Means of the all populations\")\n",
    "plt.show()"
   ]
  },
  {
   "cell_type": "code",
   "execution_count": 22,
   "metadata": {},
   "outputs": [
    {
     "data": {
      "image/png": "[encoded data removed]",
      "text/plain": [
       "<Figure size 432x288 with 1 Axes>"
      ]
     },
     "metadata": {
      "needs_background": "light"
     },
     "output_type": "display_data"
    }
   ],
   "source": [
    "x=[\"p1\",\"p2\",\"p3\",\"p4\",\"p5\",\"p6\"]\n",
    "y=[p1.std(),p2.std(),p3.std(),p4.std(),p5.std(),p6.std()]\n",
    "plt.plot(x,y,label=\"stabdard deviation\",marker=\"o\",markerfacecolor=\"r\",color=\"g\")\n",
    "plt.legend(loc=\"upper left\")\n",
    "plt.show()"
   ]
  },
  {
   "cell_type": "code",
   "execution_count": 25,
   "metadata": {},
   "outputs": [
    {
     "name": "stdout",
     "output_type": "stream",
     "text": [
      "0    1\n",
      "1    2\n",
      "2    3\n",
      "3    4\n",
      "4    5\n",
      "dtype: int64 0    10\n",
      "1    20\n",
      "2    30\n",
      "3    40\n",
      "4    50\n",
      "dtype: int64 0    10\n",
      "1     2\n",
      "2     3\n",
      "3     4\n",
      "4     5\n",
      "dtype: int64 0     1\n",
      "1     2\n",
      "2    30\n",
      "3     4\n",
      "4     5\n",
      "dtype: int64 0     1\n",
      "1    20\n",
      "2    30\n",
      "3    40\n",
      "4     5\n",
      "dtype: int64 0     1\n",
      "1     2\n",
      "2     3\n",
      "3     4\n",
      "4    50\n",
      "dtype: int64\n",
      "[1.5811388300841898, 15.811388300841896, 3.1144823004794877, 12.177848742696717, 16.452963258939103, 21.27204738618265]\n"
     ]
    },
    {
     "data": {
      "image/png": "[encoded data removed]",
      "text/plain": [
       "<Figure size 432x288 with 1 Axes>"
      ]
     },
     "metadata": {
      "needs_background": "light"
     },
     "output_type": "display_data"
    }
   ],
   "source": [
    "print(p1,p2,p3,p4,p5,p6)\n",
    "print(y)\n",
    "plt.bar(x,y,color=\"g\",label=\"std of each population\")\n",
    "plt.title(\"Graph for all the stabdard deviations in the population\")\n",
    "plt.legend(loc=\"upper left\")\n",
    "plt.show()"
   ]
  },
  {
   "cell_type": "code",
   "execution_count": 29,
   "metadata": {},
   "outputs": [
    {
     "data": {
      "image/png": "[encoded data removed]",
      "text/plain": [
       "<Figure size 432x288 with 1 Axes>"
      ]
     },
     "metadata": {
      "needs_background": "light"
     },
     "output_type": "display_data"
    }
   ],
   "source": [
    "plt.boxplot(y)\n",
    "plt.show()"
   ]
  },
  {
   "cell_type": "code",
   "execution_count": 55,
   "metadata": {},
   "outputs": [
    {
     "data": {
      "image/png": "[encoded data removed]",
      "text/plain": [
       "<Figure size 432x288 with 1 Axes>"
      ]
     },
     "metadata": {
      "needs_background": "light"
     },
     "output_type": "display_data"
    }
   ],
   "source": [
    "medi_an=[p1.median(),p2.median(),p3.median(),p4.median(),p5.median(),p6.median()]\n",
    "mea_n=[p1.mean(),p2.mean(),p3.mean(),p4.mean(),p5.mean(),p6.mean()]\n",
    "var_=[p1.var(),p2.var(),p3.var(),p4.var(),p5.var(),p6.var()]\n",
    "st_d=[p1.std(),p2.std(),p3.std(),p4.std(),p5.std(),p6.std()]\n",
    "size=[p1.var(),p2.var(),p3.var(),p4.var(),p5.var(),p6.var()]\n",
    "plt.scatter(x,st_d,s=size,c=\"yellow\",alpha=0.5,marker=\"o\")\n",
    "plt.scatter(x,medi_an,c=\"red\",s=size,alpha=0.5,marker=\"*\")\n",
    "plt.scatter(x,mea_n,c=\"green\",s=size,alpha=0.5,marker=\">\")\n",
    "plt.scatter(x,var_,c=\"hotpink\",s=size,alpha=0.3,marker=\"<\")\n",
    "plt.show()"
   ]
  },
  {
   "cell_type": "code",
   "execution_count": 78,
   "metadata": {},
   "outputs": [
    {
     "name": "stdout",
     "output_type": "stream",
     "text": [
      "0    1\n",
      "1    2\n",
      "2    3\n",
      "3    4\n",
      "4    5\n",
      "dtype: int64\n"
     ]
    },
    {
     "data": {
      "image/png": "[encoded data removed]",
      "text/plain": [
       "<Figure size 432x288 with 1 Axes>"
      ]
     },
     "metadata": {},
     "output_type": "display_data"
    }
   ],
   "source": [
    "print(p1)\n",
    "a1=[p1.mean(),p1.median(),p1.var(),p1.std()]\n",
    "plt.pie(a1,autopct=\"%1.1f%%\",labels=[\"mean\",\"median\",\"variance\",\"std\"])\n",
    "plt.show()"
   ]
  },
  {
   "cell_type": "code",
   "execution_count": 85,
   "metadata": {},
   "outputs": [
    {
     "data": {
      "text/plain": [
       "<BarContainer object of 6 artists>"
      ]
     },
     "execution_count": 85,
     "metadata": {},
     "output_type": "execute_result"
    },
    {
     "data": {
      "image/png": "[encoded data removed]",
      "text/plain": [
       "<Figure size 432x288 with 1 Axes>"
      ]
     },
     "metadata": {
      "needs_background": "light"
     },
     "output_type": "display_data"
    }
   ],
   "source": [
    "plt.bar(x,mea_n,color=\"skyblue\")"
   ]
  },
  {
   "cell_type": "code",
   "execution_count": 15,
   "metadata": {},
   "outputs": [
    {
     "name": "stdout",
     "output_type": "stream",
     "text": [
      "Enter m value\n",
      "4\n",
      "5\n",
      "6\n",
      "7\n",
      "8\n",
      "9\n",
      "1\n",
      "3\n",
      "4\n",
      "5\n",
      "[4, 6, 8, 1, 4]\n"
     ]
    }
   ],
   "source": [
    "import pandas as pd\n",
    "X=pd.Series([10,15,9,12,15])\n",
    "m=[]\n",
    "c=[]\n",
    "print(\"Enter m value\")\n",
    "for j in range(1,6): \n",
    "    m1=int(input())\n",
    "    c1=int(input())\n",
    "    m.append(m1)\n",
    "    c.append(c1)\n",
    "print(m)"
   ]
  },
  {
   "cell_type": "code",
   "execution_count": null,
   "metadata": {},
   "outputs": [],
   "source": []
  },
  {
   "cell_type": "code",
   "execution_count": null,
   "metadata": {},
   "outputs": [],
   "source": []
  }
 ],
 "metadata": {
  "kernelspec": {
   "display_name": "Python 3",
   "language": "python",
   "name": "python3"
  },
  "language_info": {
   "codemirror_mode": {
    "name": "ipython",
    "version": 3
   },
   "file_extension": ".py",
   "mimetype": "text/x-python",
   "name": "python",
   "nbconvert_exporter": "python",
   "pygments_lexer": "ipython3",
   "version": "3.7.6"
  }
 },
 "nbformat": 4,
 "nbformat_minor": 4
}
